{
 "cells": [
  {
   "cell_type": "markdown",
   "id": "858b2d0c",
   "metadata": {},
   "source": [
    "# Graph Data Structure\n",
    "#### Mushfiq M.T"
   ]
  },
  {
   "cell_type": "code",
   "execution_count": 11,
   "id": "b2c59aa4",
   "metadata": {},
   "outputs": [],
   "source": [
    "#Collection of nodes and edges\n",
    "# A directed graph, where edges have direction (meaning that edges with arrows connect one vertex to another).\n",
    "# An undirected graph, where edges have no direction (meaning arrowless connections).\n",
    "#It's basically the same as a directed graph but has bi-directional connections between nodes"
   ]
  },
  {
   "cell_type": "code",
   "execution_count": 1,
   "id": "afd9514a",
   "metadata": {},
   "outputs": [],
   "source": [
    "#Build the graph\n",
    "def build_graph(edges):\n",
    "    graph = {}\n",
    "    for edge in edges:    #edge:- ['Mushfiq', 'Arif']\n",
    "        node_A, node_B = edge\n",
    "        if node_A not in graph:\n",
    "            graph[node_A] = []   #Assign as a key\n",
    "        if node_B not in graph:\n",
    "            graph[node_B] = []\n",
    "        graph[node_A].append(node_B)\n",
    "        graph[node_B].append(node_A)\n",
    "        \n",
    "    return graph"
   ]
  },
  {
   "cell_type": "code",
   "execution_count": 2,
   "id": "e42c4eb3",
   "metadata": {},
   "outputs": [
    {
     "data": {
      "text/plain": [
       "{'Mushfiq': ['Arif', 'Bilal'],\n",
       " 'Arif': ['Mushfiq'],\n",
       " 'Bilal': ['Mushfiq', 'Ajay', 'Sidharth'],\n",
       " 'Ajay': ['Bilal'],\n",
       " 'Sidharth': ['Bilal'],\n",
       " 'Shamil': ['Shijin'],\n",
       " 'Shijin': ['Shamil']}"
      ]
     },
     "execution_count": 2,
     "metadata": {},
     "output_type": "execute_result"
    }
   ],
   "source": [
    "edges = [['Mushfiq','Arif'],\n",
    "         ['Bilal','Mushfiq'],\n",
    "         ['Ajay','Bilal'],\n",
    "         ['Bilal','Sidharth'],\n",
    "         ['Shamil','Shijin']]\n",
    "\n",
    "build_graph(edges)"
   ]
  },
  {
   "cell_type": "code",
   "execution_count": 3,
   "id": "8050634c",
   "metadata": {
    "scrolled": false
   },
   "outputs": [
    {
     "name": "stdout",
     "output_type": "stream",
     "text": [
      "Mushfiq Arif\n",
      "Bilal Mushfiq\n",
      "Ajay Bilal\n",
      "Bilal Sidharth\n",
      "Shamil Shijin\n",
      "[['Mushfiq', 'Arif'], ['Bilal', 'Mushfiq'], ['Ajay', 'Bilal'], ['Bilal', 'Sidharth'], ['Shamil', 'Shijin']]\n"
     ]
    },
    {
     "data": {
      "text/plain": [
       "{'Mushfiq': ['Arif', 'Bilal'],\n",
       " 'Arif': ['Mushfiq'],\n",
       " 'Bilal': ['Mushfiq', 'Ajay', 'Sidharth'],\n",
       " 'Ajay': ['Bilal'],\n",
       " 'Sidharth': ['Bilal'],\n",
       " 'Shamil': ['Shijin'],\n",
       " 'Shijin': ['Shamil']}"
      ]
     },
     "execution_count": 3,
     "metadata": {},
     "output_type": "execute_result"
    }
   ],
   "source": [
    "#Take user input\n",
    "n = 5   #No.of inpits\n",
    "edges = []   #empty list\n",
    "for i in range(n):\n",
    "    edges.append(input().split())\n",
    "print(edges)    \n",
    "build_graph(edges)"
   ]
  },
  {
   "cell_type": "markdown",
   "id": "0ba16769",
   "metadata": {},
   "source": [
    "## Traversal (DFS)\n",
    "#### 1. Itrative Method"
   ]
  },
  {
   "cell_type": "code",
   "execution_count": 4,
   "id": "d46839ee",
   "metadata": {},
   "outputs": [
    {
     "name": "stdout",
     "output_type": "stream",
     "text": [
      "5\n",
      "25\n",
      "50\n",
      "100\n",
      "15\n",
      "30\n",
      "20\n",
      "10\n"
     ]
    }
   ],
   "source": [
    "def traversal_itr(graph, start):\n",
    "    stack = [start]\n",
    "    while stack:\n",
    "        current = stack.pop()\n",
    "        print(current)\n",
    "        for val in graph[current]:\n",
    "            stack.append(val)\n",
    "\n",
    "graph = {5: [10,20,15,25],\n",
    "         10: [],\n",
    "         20: [],\n",
    "         15: [30],\n",
    "         30: [],\n",
    "         25: [50],\n",
    "         50: [100],\n",
    "         100: []} \n",
    "\n",
    "traversal_itr(graph, 5)"
   ]
  },
  {
   "cell_type": "markdown",
   "id": "79d1ac14",
   "metadata": {},
   "source": [
    "#### 2.Recursive Method"
   ]
  },
  {
   "cell_type": "code",
   "execution_count": 5,
   "id": "bcfbdd4e",
   "metadata": {},
   "outputs": [
    {
     "name": "stdout",
     "output_type": "stream",
     "text": [
      "5\n",
      "10\n",
      "20\n",
      "15\n",
      "30\n",
      "25\n",
      "50\n",
      "100\n"
     ]
    }
   ],
   "source": [
    "def traversal_rec(graph, start):\n",
    "    print(start)\n",
    "    \n",
    "    if len(graph[start]) == 0:\n",
    "        return\n",
    "    \n",
    "    for val in graph[start]:\n",
    "        traversal_rec(graph, val)\n",
    "        \n",
    "\n",
    "graph = {5: [10,20,15,25],\n",
    "         10: [],\n",
    "         20: [],\n",
    "         15: [30],\n",
    "         30: [],\n",
    "         25: [50],\n",
    "         50: [100],\n",
    "         100: []} \n",
    "\n",
    "traversal_rec(graph, 5)"
   ]
  },
  {
   "cell_type": "markdown",
   "id": "2cd3a1d0",
   "metadata": {},
   "source": [
    "## Traversal (BFS)"
   ]
  },
  {
   "cell_type": "code",
   "execution_count": 6,
   "id": "1480c80d",
   "metadata": {},
   "outputs": [
    {
     "name": "stdout",
     "output_type": "stream",
     "text": [
      "10\n",
      "5\n",
      "20\n",
      "30\n",
      "100\n",
      "25\n",
      "40\n",
      "90\n",
      "80\n",
      "200\n"
     ]
    }
   ],
   "source": [
    "def bfs_itr(graph, start):\n",
    "    queue = [start]\n",
    "    while queue:\n",
    "        current = queue.pop(0) #pop the first element\n",
    "        print(current)\n",
    "        for val in graph[current]:\n",
    "            queue.append(val)\n",
    "\n",
    "graph = {10: [5,20,30,100],\n",
    "         5: [25],\n",
    "         20: [40],\n",
    "         30: [90],\n",
    "         100: [],\n",
    "         25: [],\n",
    "         40: [80],\n",
    "         90: [200],\n",
    "        80: [],\n",
    "        200: []} \n",
    "\n",
    "bfs_itr(graph, 10)"
   ]
  },
  {
   "cell_type": "markdown",
   "id": "5cd7fc81",
   "metadata": {},
   "source": [
    "## Has Path or Not (Directed Graph)\n",
    "### 1. DFS"
   ]
  },
  {
   "cell_type": "code",
   "execution_count": 7,
   "id": "18a4f2c9",
   "metadata": {},
   "outputs": [
    {
     "data": {
      "text/plain": [
       "True"
      ]
     },
     "execution_count": 7,
     "metadata": {},
     "output_type": "execute_result"
    }
   ],
   "source": [
    "#DFS\n",
    "def has_path(graph, src, dest):  #src: Source node, dest: destination\n",
    "    if src == dest:\n",
    "        return True\n",
    "    \n",
    "    for neigh in graph[src]:\n",
    "        if (has_path(graph, neigh, dest) == True):\n",
    "            return True\n",
    "        \n",
    "    return False\n",
    "    \n",
    "graph = {5: [10,20,15,25],\n",
    "         10: [],\n",
    "         20: [],\n",
    "         15: [30],\n",
    "         30: [],\n",
    "         25: [50],\n",
    "         50: [100],\n",
    "         100: []} \n",
    "\n",
    "has_path(graph, 5, 100)"
   ]
  },
  {
   "cell_type": "code",
   "execution_count": 8,
   "id": "db31d254",
   "metadata": {},
   "outputs": [
    {
     "data": {
      "text/plain": [
       "False"
      ]
     },
     "execution_count": 8,
     "metadata": {},
     "output_type": "execute_result"
    }
   ],
   "source": [
    "\n",
    "graph = {5: [10,20,15,25],\n",
    "         10: [],\n",
    "         20: [],\n",
    "         15: [30],\n",
    "         30: [],\n",
    "         25: [50],\n",
    "         50: [100],\n",
    "         100: []} \n",
    "\n",
    "has_path(graph, 10, 100)"
   ]
  },
  {
   "cell_type": "markdown",
   "id": "6fb1a889",
   "metadata": {},
   "source": [
    "### 2.BFS"
   ]
  },
  {
   "cell_type": "code",
   "execution_count": 12,
   "id": "69f9843e",
   "metadata": {
    "scrolled": true
   },
   "outputs": [
    {
     "data": {
      "text/plain": [
       "True"
      ]
     },
     "execution_count": 12,
     "metadata": {},
     "output_type": "execute_result"
    }
   ],
   "source": [
    "#BFS (using queue approach)\n",
    "#src: Source node, dest: destination\n",
    "def haspath(graph, src, dest):\n",
    "    queue = [src]\n",
    "    while queue:\n",
    "        current = queue.pop(0)\n",
    "        if current == dest:\n",
    "            return True\n",
    "        for neigh in graph[current]:\n",
    "            queue.append(neigh)\n",
    "    return False\n",
    "\n",
    "graph = {5: [10,20,15,25],\n",
    "         10: [],\n",
    "         20: [],\n",
    "         15: [30],\n",
    "         30: [],\n",
    "         25: [50],\n",
    "         50: [100],\n",
    "         100: []} \n",
    "\n",
    "haspath(graph, 5, 100)"
   ]
  },
  {
   "cell_type": "code",
   "execution_count": 14,
   "id": "51b29753",
   "metadata": {},
   "outputs": [
    {
     "data": {
      "text/plain": [
       "False"
      ]
     },
     "execution_count": 14,
     "metadata": {},
     "output_type": "execute_result"
    }
   ],
   "source": [
    "def haspath(graph, src, dest):\n",
    "    queue = [src]\n",
    "    while queue:\n",
    "        current = queue.pop(0)\n",
    "        if current == dest:\n",
    "            return True\n",
    "        for neigh in graph[current]:\n",
    "            queue.append(neigh)\n",
    "    return False\n",
    "\n",
    "graph = {5: [10,20,15,25],\n",
    "         10: [],\n",
    "         20: [],\n",
    "         15: [30],\n",
    "         30: [],\n",
    "         25: [50],\n",
    "         50: [100],\n",
    "         100: []} \n",
    "\n",
    "haspath(graph, 15, 100)"
   ]
  },
  {
   "cell_type": "markdown",
   "id": "1bfe844e",
   "metadata": {},
   "source": [
    "## Has Path or Not (Un-directed Graph)"
   ]
  },
  {
   "cell_type": "code",
   "execution_count": 19,
   "id": "256d6729",
   "metadata": {},
   "outputs": [],
   "source": [
    "def path_or_not(graph, src, dest):\n",
    "    graph = build_graph(edges)\n",
    "    \n",
    "    return search_path(graph, src, dest, visited=set())\n",
    "\n",
    "#Build the graph\n",
    "def build_graph(edges):\n",
    "    graph = {}\n",
    "    for edge in edges:    #edge:- ['Mushfiq', 'Arif']\n",
    "        node_A, node_B = edge\n",
    "        if node_A not in graph:\n",
    "            graph[node_A] = []   #Assign as a key\n",
    "        if node_B not in graph:\n",
    "            graph[node_B] = []\n",
    "        graph[node_A].append(node_B)\n",
    "        graph[node_B].append(node_A)\n",
    "        \n",
    "    return graph\n",
    "\n",
    "#Search for the path\n",
    "def search_path(graph, src, dest, visited):\n",
    "    if src == dest:\n",
    "        return True\n",
    "    if src in visited:\n",
    "        return False\n",
    "    visited.add(src)\n",
    "    \n",
    "    for neigh in graph[src]:\n",
    "        if (search_path(graph, neigh, dest, visited) == True):\n",
    "            return True\n",
    "        \n",
    "    return False"
   ]
  },
  {
   "cell_type": "code",
   "execution_count": 20,
   "id": "664d4dc4",
   "metadata": {},
   "outputs": [
    {
     "data": {
      "text/plain": [
       "True"
      ]
     },
     "execution_count": 20,
     "metadata": {},
     "output_type": "execute_result"
    }
   ],
   "source": [
    "edges = [[10,20],\n",
    "         [20,30],\n",
    "         [30,10],\n",
    "         [30,40]]\n",
    "\n",
    "path_or_not(graph,10,40)"
   ]
  },
  {
   "cell_type": "code",
   "execution_count": 21,
   "id": "bc45df73",
   "metadata": {},
   "outputs": [
    {
     "data": {
      "text/plain": [
       "False"
      ]
     },
     "execution_count": 21,
     "metadata": {},
     "output_type": "execute_result"
    }
   ],
   "source": [
    "path_or_not(graph,10,50)"
   ]
  }
 ],
 "metadata": {
  "kernelspec": {
   "display_name": "Python 3 (ipykernel)",
   "language": "python",
   "name": "python3"
  },
  "language_info": {
   "codemirror_mode": {
    "name": "ipython",
    "version": 3
   },
   "file_extension": ".py",
   "mimetype": "text/x-python",
   "name": "python",
   "nbconvert_exporter": "python",
   "pygments_lexer": "ipython3",
   "version": "3.11.5"
  }
 },
 "nbformat": 4,
 "nbformat_minor": 5
}
