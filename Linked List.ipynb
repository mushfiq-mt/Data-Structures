{
 "cells": [
  {
   "cell_type": "markdown",
   "id": "5fbf1c59",
   "metadata": {},
   "source": [
    "# Linked List (1)\n",
    "#### Mushfiq M.T"
   ]
  },
  {
   "cell_type": "code",
   "execution_count": 1,
   "id": "a876bc0b",
   "metadata": {},
   "outputs": [],
   "source": [
    "class Node:\n",
    "    def __init__(self, data):\n",
    "        self.data = data\n",
    "        self.next = None \n",
    "\n",
    "class LinkedList:\n",
    "    def __init__(self):\n",
    "        self.head = None\n",
    "        self.tail = None\n",
    "        \n",
    "    def append(self, data):\n",
    "        new_node = Node(data)\n",
    "        if not self.head:\n",
    "            self.head = new_node\n",
    "            self.tail = new_node\n",
    "        else:\n",
    "            self.tail.next = new_node\n",
    "            self.tail = new_node\n",
    "            \n",
    "    def insertAtFront(self, data):\n",
    "        new_node = Node(data)\n",
    "        new_node.next = self.head\n",
    "        self.head = new_node\n",
    "        \n",
    "    def print(self):\n",
    "        current = self.head\n",
    "        llstr = ''\n",
    "        while current:\n",
    "            llstr += str(current.data) + '-->'\n",
    "            current = current.next\n",
    "        print(llstr)"
   ]
  },
  {
   "cell_type": "code",
   "execution_count": 2,
   "id": "2e5bd6a2",
   "metadata": {},
   "outputs": [],
   "source": [
    "li = LinkedList()\n",
    "li.append(5)\n",
    "li.append(2)\n",
    "li.append(6)"
   ]
  },
  {
   "cell_type": "code",
   "execution_count": 3,
   "id": "9ecd71d3",
   "metadata": {},
   "outputs": [],
   "source": [
    "li.insertAtFront(9)"
   ]
  },
  {
   "cell_type": "code",
   "execution_count": 4,
   "id": "ca4603bb",
   "metadata": {},
   "outputs": [
    {
     "name": "stdout",
     "output_type": "stream",
     "text": [
      "9-->5-->2-->6-->\n"
     ]
    }
   ],
   "source": [
    "li.print()"
   ]
  },
  {
   "cell_type": "markdown",
   "id": "0e13b28e",
   "metadata": {},
   "source": [
    "# Linked List (2)"
   ]
  },
  {
   "cell_type": "code",
   "execution_count": 1,
   "id": "f07ac6a4",
   "metadata": {},
   "outputs": [],
   "source": [
    "class Node:\n",
    "    def __init__(self, data=None, next=None):\n",
    "        self.data = data\n",
    "        self.next = next\n",
    "        \n",
    "class LinkedList:\n",
    "    def __init__(self):\n",
    "        self.head = None\n",
    "        \n",
    "    def insert_at_begening(self, data):\n",
    "            node = Node(data, self.head)\n",
    "            self.head = node\n",
    "            \n",
    "    def insert_at_end(self, data):\n",
    "        if self.head is None:\n",
    "            self.head = Node(data, None)\n",
    "            return\n",
    "        \n",
    "        current = self.head\n",
    "        while current.next:\n",
    "            current = current.next\n",
    "        \n",
    "        current.next = Node(data, None)\n",
    "     \n",
    "    #insert a list of values into linked list\n",
    "    def insert_value(self, data_list):\n",
    "        self.head = None\n",
    "        for data in data_list:\n",
    "            self.insert_at_end(data)\n",
    "                  \n",
    "    def print(self):\n",
    "        if self.head is None:\n",
    "            print(\"Linked List is Empty\")\n",
    "            return\n",
    "       \n",
    "        current = self.head\n",
    "        llstr = ''\n",
    "        while current:\n",
    "            llstr += str(current.data) + '-->'\n",
    "            current = current.next\n",
    "        print(llstr)\n",
    "    \n",
    "    #length of the linked list\n",
    "    def get_length(self):\n",
    "        count = 0\n",
    "        current = self.head\n",
    "        \n",
    "        while current:\n",
    "            count += 1\n",
    "        return count\n",
    "    \n",
    "    #remove the value from a given index \n",
    "    def remove_at(self, index):\n",
    "        if index<0 or index>=self.get_length():\n",
    "            raise Exception(\"Invalid Index\")\n",
    "        \n",
    "        if index == 0:\n",
    "            self.head = self.head.next\n",
    "            return\n",
    "        \n",
    "        count = 0\n",
    "        current = self.head\n",
    "        while current:\n",
    "            if count == index-1:\n",
    "                current.next = current.next.next\n",
    "                break\n",
    "                \n",
    "            current = current.next\n",
    "            count+=1\n",
    "            \n",
    "    #insert a value at a given index       \n",
    "    def insert_at(self, index, data):\n",
    "        if index<0 or index>=self.get_length():\n",
    "            raise Exception(\"Invalid Index\")\n",
    "        \n",
    "        if index == 0:\n",
    "            self.insert_at_begening(data)\n",
    "            return\n",
    "        \n",
    "        count = 0\n",
    "        current = self.head\n",
    "        while current:\n",
    "            if count == index-1:\n",
    "                node = Node(data, current.next)\n",
    "                current.next = node\n",
    "                break\n",
    "                \n",
    "            current = current.next\n",
    "            count+=1"
   ]
  },
  {
   "cell_type": "code",
   "execution_count": 2,
   "id": "39ce0bac",
   "metadata": {},
   "outputs": [
    {
     "name": "stdout",
     "output_type": "stream",
     "text": [
      "9-->5-->2-->6-->\n"
     ]
    }
   ],
   "source": [
    "ll = LinkedList()\n",
    "ll.insert_at_begening(2)\n",
    "ll.insert_at_begening(5)\n",
    "ll.insert_at_begening(9)\n",
    "ll.insert_at_end(6)\n",
    "ll.print()\n"
   ]
  },
  {
   "cell_type": "code",
   "execution_count": null,
   "id": "bde4b662",
   "metadata": {},
   "outputs": [],
   "source": [
    "ll.remove_at(2)"
   ]
  },
  {
   "cell_type": "code",
   "execution_count": null,
   "id": "26e24a67",
   "metadata": {},
   "outputs": [],
   "source": [
    "ll.insert_value([\"apple\",\"banana\",\"grapes\"])\n",
    "ll.print()\n"
   ]
  },
  {
   "cell_type": "code",
   "execution_count": null,
   "id": "bcb54c67",
   "metadata": {},
   "outputs": [],
   "source": [
    "ll.get_length()"
   ]
  },
  {
   "cell_type": "markdown",
   "id": "556f7e14",
   "metadata": {},
   "source": [
    "### Simple method to create a list"
   ]
  },
  {
   "cell_type": "code",
   "execution_count": 1,
   "id": "b98e4b6c",
   "metadata": {},
   "outputs": [
    {
     "name": "stdout",
     "output_type": "stream",
     "text": [
      "List l1:\n",
      "1 -> 3 -> 5 -> None\n",
      "List l2:\n",
      "2 -> 4 -> 6 -> None\n"
     ]
    }
   ],
   "source": [
    "class ListNode:\n",
    "    def __init__(self, val=0, next=None):\n",
    "        self.val = val\n",
    "        self.next = next\n",
    "\n",
    "def create_list(values):\n",
    "    dummy = ListNode()\n",
    "    current = dummy\n",
    "    for value in values:\n",
    "        current.next = ListNode(value)\n",
    "        current = current.next\n",
    "    return dummy.next\n",
    "\n",
    "def print_list(node):\n",
    "    while node:\n",
    "        print(node.val, end=' -> ')\n",
    "        node = node.next\n",
    "    print('None')\n",
    "\n",
    "# Create two sorted linked lists\n",
    "l1 = create_list([1, 3, 5])\n",
    "l2 = create_list([2, 4, 6])\n",
    "\n",
    "# Print the linked lists\n",
    "print(\"List l1:\")\n",
    "print_list(l1)\n",
    "\n",
    "print(\"List l2:\")\n",
    "print_list(l2)"
   ]
  }
 ],
 "metadata": {
  "kernelspec": {
   "display_name": "Python 3 (ipykernel)",
   "language": "python",
   "name": "python3"
  },
  "language_info": {
   "codemirror_mode": {
    "name": "ipython",
    "version": 3
   },
   "file_extension": ".py",
   "mimetype": "text/x-python",
   "name": "python",
   "nbconvert_exporter": "python",
   "pygments_lexer": "ipython3",
   "version": "3.11.5"
  }
 },
 "nbformat": 4,
 "nbformat_minor": 5
}
