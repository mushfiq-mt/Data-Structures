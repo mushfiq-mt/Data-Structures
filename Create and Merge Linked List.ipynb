{
 "cells": [
  {
   "cell_type": "markdown",
   "id": "6cb30fca",
   "metadata": {},
   "source": [
    "# Create & Merge Linked List\n",
    "#### Mushfiq M.T"
   ]
  },
  {
   "cell_type": "code",
   "execution_count": 1,
   "id": "5fc9d8b5",
   "metadata": {},
   "outputs": [
    {
     "name": "stdout",
     "output_type": "stream",
     "text": [
      "List l1:\n",
      "1 -> 3 -> 5 -> None\n",
      "List l2:\n",
      "2 -> 4 -> 6 -> None\n"
     ]
    }
   ],
   "source": [
    "class ListNode:\n",
    "    def __init__(self, val=0, next=None):\n",
    "        self.val = val\n",
    "        self.next = next\n",
    "\n",
    "def create_list(values):\n",
    "    dummy = ListNode()\n",
    "    current = dummy\n",
    "    for value in values:\n",
    "        current.next = ListNode(value)\n",
    "        current = current.next\n",
    "    return dummy.next\n",
    "\n",
    "def print_list(node):\n",
    "    while node:\n",
    "        print(node.val, end=' -> ')\n",
    "        node = node.next\n",
    "    print('None')\n",
    "\n",
    "# Create two sorted linked lists\n",
    "l1 = create_list([1, 3, 5])\n",
    "l2 = create_list([2, 4, 6])\n",
    "\n",
    "# Print the linked lists\n",
    "print(\"List l1:\")\n",
    "print_list(l1)\n",
    "\n",
    "print(\"List l2:\")\n",
    "print_list(l2)\n",
    "\n"
   ]
  },
  {
   "cell_type": "code",
   "execution_count": 2,
   "id": "31cd7c69",
   "metadata": {},
   "outputs": [],
   "source": [
    "class Solution:\n",
    "    def mergeTwoLists(self, l1: ListNode, l2: ListNode) -> ListNode:\n",
    "        # Create a dummy node to act as the start of the merged list\n",
    "        dummy = ListNode()\n",
    "        # This will be the current node in the new list\n",
    "        current = dummy\n",
    "        \n",
    "        # Pointers for l1 and l2\n",
    "        p1, p2 = l1, l2\n",
    "        \n",
    "        # Traverse both lists\n",
    "        while p1 and p2:\n",
    "            if p1.val < p2.val:\n",
    "                current.next = p1\n",
    "                p1 = p1.next\n",
    "            else:\n",
    "                current.next = p2\n",
    "                p2 = p2.next\n",
    "            current = current.next\n",
    "        \n",
    "        # At this point, one of the lists is exhausted\n",
    "        # Append the remaining elements from the non-exhausted list\n",
    "        if p1:\n",
    "            current.next = p1\n",
    "        if p2:\n",
    "            current.next = p2\n",
    "        \n",
    "        # Return the merged list, which is next to the dummy node\n",
    "        return dummy.next\n",
    "\n"
   ]
  },
  {
   "cell_type": "code",
   "execution_count": 3,
   "id": "af60589a",
   "metadata": {},
   "outputs": [
    {
     "name": "stdout",
     "output_type": "stream",
     "text": [
      "1 -> 2 -> 3 -> 4 -> 5 -> 6 -> None\n"
     ]
    }
   ],
   "source": [
    "# Merge the two linked lists\n",
    "sol = Solution()\n",
    "merged_list = sol.mergeTwoLists(l1, l2)\n",
    "\n",
    "# Print the merged linked list\n",
    "print_list(merged_list)"
   ]
  },
  {
   "cell_type": "code",
   "execution_count": null,
   "id": "fc1a6d86",
   "metadata": {},
   "outputs": [],
   "source": []
  }
 ],
 "metadata": {
  "kernelspec": {
   "display_name": "Python 3 (ipykernel)",
   "language": "python",
   "name": "python3"
  },
  "language_info": {
   "codemirror_mode": {
    "name": "ipython",
    "version": 3
   },
   "file_extension": ".py",
   "mimetype": "text/x-python",
   "name": "python",
   "nbconvert_exporter": "python",
   "pygments_lexer": "ipython3",
   "version": "3.11.5"
  }
 },
 "nbformat": 4,
 "nbformat_minor": 5
}
