{
 "cells": [
  {
   "cell_type": "markdown",
   "id": "0af26c19",
   "metadata": {},
   "source": [
    "# Binary Tree\n",
    "#### Mushfiq M.T"
   ]
  },
  {
   "cell_type": "markdown",
   "id": "8386f7e9",
   "metadata": {},
   "source": [
    "      1\n",
    "     / \\\n",
    "    2   3\n",
    "   / \\\n",
    "  4   5\n",
    "  "
   ]
  },
  {
   "cell_type": "code",
   "execution_count": 1,
   "id": "4eb8ae7d",
   "metadata": {},
   "outputs": [],
   "source": [
    "class Node:\n",
    "    def __init__(self, val=0, left=None, right=None):\n",
    "        self.val = val\n",
    "        self.left = left\n",
    "        self.right = right\n"
   ]
  },
  {
   "cell_type": "markdown",
   "id": "eec8d20b",
   "metadata": {},
   "source": [
    "### Traversal"
   ]
  },
  {
   "cell_type": "code",
   "execution_count": 11,
   "id": "1cc3be73",
   "metadata": {},
   "outputs": [],
   "source": [
    "#Pre-order Traversal: (root-left-right)\n",
    "def print_pre_order(root):\n",
    "    if root:\n",
    "        print(root.val, end=' ')\n",
    "        print_pre_order(root.left)\n",
    "        print_pre_order(root.right)"
   ]
  },
  {
   "cell_type": "code",
   "execution_count": 12,
   "id": "53a26281",
   "metadata": {},
   "outputs": [],
   "source": [
    "#in-order Traversal: (left-root-right)\n",
    "def print_in_order(root):\n",
    "    if root:\n",
    "        print_in_order(root.left)\n",
    "        print(root.val, end=' ')\n",
    "        print_in_order(root.right)"
   ]
  },
  {
   "cell_type": "code",
   "execution_count": 13,
   "id": "5a542a40",
   "metadata": {},
   "outputs": [],
   "source": [
    "#post-order Traversal: (left-right-root)\n",
    "def print_post_order(root):\n",
    "    if root:\n",
    "        print_post_order(root.left)\n",
    "        print_post_order(root.right)\n",
    "        print(root.val, end=' ')"
   ]
  },
  {
   "cell_type": "code",
   "execution_count": 14,
   "id": "13d90460",
   "metadata": {},
   "outputs": [],
   "source": [
    "# Create the binary tree\n",
    "root = Node(1)\n",
    "root.left = Node(2)\n",
    "root.right = Node(3)\n",
    "root.left.left = Node(4)\n",
    "root.left.right = Node(5)"
   ]
  },
  {
   "cell_type": "code",
   "execution_count": 15,
   "id": "6461b71e",
   "metadata": {},
   "outputs": [
    {
     "name": "stdout",
     "output_type": "stream",
     "text": [
      "Pre-order traversal:\n",
      "1 2 4 5 3 "
     ]
    }
   ],
   "source": [
    "# Print the binary tree in pre-order\n",
    "print(\"Pre-order traversal:\")\n",
    "print_pre_order(root)"
   ]
  },
  {
   "cell_type": "code",
   "execution_count": 16,
   "id": "be0c7326",
   "metadata": {},
   "outputs": [
    {
     "name": "stdout",
     "output_type": "stream",
     "text": [
      "In-order traversal:\n",
      "4 2 5 1 3 "
     ]
    }
   ],
   "source": [
    "# Print the binary tree in in-order\n",
    "print(\"In-order traversal:\")\n",
    "print_in_order(root)"
   ]
  },
  {
   "cell_type": "code",
   "execution_count": 17,
   "id": "bec6cddc",
   "metadata": {},
   "outputs": [
    {
     "name": "stdout",
     "output_type": "stream",
     "text": [
      "Post-order traversal:\n",
      "4 5 2 3 1 "
     ]
    }
   ],
   "source": [
    "# Print the binary tree in post-order\n",
    "print(\"Post-order traversal:\")\n",
    "print_post_order(root)"
   ]
  },
  {
   "cell_type": "markdown",
   "id": "f1653fd0",
   "metadata": {},
   "source": [
    "### Number of Nodes"
   ]
  },
  {
   "cell_type": "code",
   "execution_count": 18,
   "id": "47cb954d",
   "metadata": {},
   "outputs": [],
   "source": [
    "#Find the number of nodes\n",
    "def count_nodes(root):\n",
    "        if not root:\n",
    "            return 0\n",
    "        return 1+count_nodes(root.left)+count_nodes(root.right)"
   ]
  },
  {
   "cell_type": "code",
   "execution_count": 19,
   "id": "e16cf28b",
   "metadata": {},
   "outputs": [
    {
     "name": "stdout",
     "output_type": "stream",
     "text": [
      "No. of nodes in the tree: 5\n"
     ]
    }
   ],
   "source": [
    "print(\"No. of nodes in the tree:\", count_nodes(root))"
   ]
  },
  {
   "cell_type": "markdown",
   "id": "007cd03f",
   "metadata": {},
   "source": [
    "### Height of the Tree"
   ]
  },
  {
   "cell_type": "code",
   "execution_count": 20,
   "id": "3daea133",
   "metadata": {},
   "outputs": [],
   "source": [
    "#Find Height of the tree\n",
    "def tree_height(root):\n",
    "        if not root:\n",
    "            return 0\n",
    "        return 1+max(tree_height(root.left),tree_height(root.right))"
   ]
  },
  {
   "cell_type": "code",
   "execution_count": 21,
   "id": "8148a594",
   "metadata": {},
   "outputs": [
    {
     "name": "stdout",
     "output_type": "stream",
     "text": [
      "Height of the tree is: 3\n"
     ]
    }
   ],
   "source": [
    "print(\"Height of the tree is:\", tree_height(root))"
   ]
  },
  {
   "cell_type": "markdown",
   "id": "9eaad392",
   "metadata": {},
   "source": [
    "### Same Tree"
   ]
  },
  {
   "cell_type": "code",
   "execution_count": 27,
   "id": "7c7d38ca",
   "metadata": {},
   "outputs": [],
   "source": [
    "#Check given trees are same or not\n",
    "#2 binary trees are same if they are structurally identical & nodes have same value\n",
    "def is_same_tree(root1, root2):\n",
    "        if not root1 and not root2:\n",
    "            return True\n",
    "        \n",
    "        if root1 and root2 and root1.val == root2.val:\n",
    "            return is_same_tree(root1.left, root2.left) and is_same_tree(root1.right, root2.right)\n",
    "        \n",
    "        return False"
   ]
  },
  {
   "cell_type": "code",
   "execution_count": 28,
   "id": "15e96be3",
   "metadata": {},
   "outputs": [
    {
     "name": "stdout",
     "output_type": "stream",
     "text": [
      "In-order traversal for 1st:\n",
      "4 2 5 1 3 \n",
      "In-order traversal for 2nd:\n",
      "4 2 5 1 3 "
     ]
    }
   ],
   "source": [
    "# Create 1st binary tree\n",
    "root1 = Node(1)\n",
    "root1.left = Node(2)\n",
    "root1.right = Node(3)\n",
    "root1.left.left = Node(4)\n",
    "root1.left.right = Node(5)\n",
    "\n",
    "# Print the 1st binary tree in in-order\n",
    "print(\"In-order traversal for 1st:\")\n",
    "print_in_order(root1)\n",
    "\n",
    "# Create 2nd binary tree\n",
    "root2 = Node(1)\n",
    "root2.left = Node(2)\n",
    "root2.right = Node(3)\n",
    "root2.left.left = Node(4)\n",
    "root2.left.right = Node(5)\n",
    "\n",
    "# Print the 2nd binary tree in in-order\n",
    "print('\\n'\"In-order traversal for 2nd:\")\n",
    "print_in_order(root2)"
   ]
  },
  {
   "cell_type": "code",
   "execution_count": 29,
   "id": "e36f4838",
   "metadata": {},
   "outputs": [
    {
     "name": "stdout",
     "output_type": "stream",
     "text": [
      "Both tree are same: True\n"
     ]
    }
   ],
   "source": [
    "# Check the 1st and 2nd tree are same\n",
    "print(\"Both tree are same:\", is_same_tree(root1, root2))"
   ]
  },
  {
   "cell_type": "code",
   "execution_count": null,
   "id": "eae1b1f3",
   "metadata": {},
   "outputs": [],
   "source": []
  }
 ],
 "metadata": {
  "kernelspec": {
   "display_name": "Python 3 (ipykernel)",
   "language": "python",
   "name": "python3"
  },
  "language_info": {
   "codemirror_mode": {
    "name": "ipython",
    "version": 3
   },
   "file_extension": ".py",
   "mimetype": "text/x-python",
   "name": "python",
   "nbconvert_exporter": "python",
   "pygments_lexer": "ipython3",
   "version": "3.11.5"
  }
 },
 "nbformat": 4,
 "nbformat_minor": 5
}
