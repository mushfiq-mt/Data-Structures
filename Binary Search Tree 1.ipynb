{
 "cells": [
  {
   "cell_type": "markdown",
   "id": "4863657b",
   "metadata": {},
   "source": [
    "# Build, In_order_Traversal, and Search\n",
    "#### Mushfiq M.T"
   ]
  },
  {
   "cell_type": "code",
   "execution_count": 1,
   "id": "6a7c6743",
   "metadata": {},
   "outputs": [
    {
     "name": "stdout",
     "output_type": "stream",
     "text": [
      "[2, 5, 10, 18, 19, 21, 24, 35]\n",
      "True\n",
      "False\n"
     ]
    }
   ],
   "source": [
    "class BSTNode:\n",
    "    def __init__(self, data):\n",
    "        self.data = data\n",
    "        self.left = None\n",
    "        self.right = None\n",
    "        \n",
    "    #Build the model    \n",
    "    def add_child(self, data):\n",
    "        if data == self.data:\n",
    "            return\n",
    "        \n",
    "        if data < self.data:\n",
    "            if self.left:\n",
    "                return self.left.add_child(data)\n",
    "            else:\n",
    "                self.left = BSTNode(data)\n",
    "        \n",
    "        else:\n",
    "            if self.right:\n",
    "                return self.right.add_child(data)\n",
    "            else:\n",
    "                self.right = BSTNode(data)\n",
    "            \n",
    "    #in_order_traversal for print all the element\n",
    "    def in_order_traversal(self):\n",
    "        elements = []\n",
    "        \n",
    "        #visit left tree\n",
    "        if self.left:\n",
    "            elements += self.left.in_order_traversal()\n",
    "        \n",
    "        #visit base node\n",
    "        elements.append(self.data)\n",
    "        \n",
    "        #visit right node\n",
    "        if self.right:\n",
    "            elements += self.right.in_order_traversal()\n",
    "        return elements\n",
    "    \n",
    "    #search for a value\n",
    "    def search(self, val):\n",
    "        if self.data == val:\n",
    "            return True\n",
    "        \n",
    "        if val < self.data:\n",
    "            if self.left:\n",
    "                return self.left.search(val)\n",
    "            else:\n",
    "                return False\n",
    "            \n",
    "        if val > self.data:\n",
    "            if self.right:\n",
    "                return self.right.search(val)\n",
    "            else:\n",
    "                return False\n",
    "    \n",
    "#Build the tree\n",
    "def build_tree(elements):\n",
    "    root = BSTNode(elements[0])\n",
    "    \n",
    "    for i in range(1, len(elements)):\n",
    "        root.add_child(elements[i])\n",
    "    return root\n",
    "\n",
    "if __name__ == '__main__':\n",
    "    numbers = [18,5,2,21,10,24,19,35]\n",
    "    numbers_tree = build_tree(numbers)\n",
    "    print(numbers_tree.in_order_traversal())\n",
    "    print(numbers_tree.search(10))\n",
    "    print(numbers_tree.search(20))\n"
   ]
  },
  {
   "cell_type": "code",
   "execution_count": 2,
   "id": "2f3ba96f",
   "metadata": {},
   "outputs": [
    {
     "name": "stdout",
     "output_type": "stream",
     "text": [
      "[2, 5, 10, 18, 19, 21, 24, 35]\n",
      "True\n",
      "False\n"
     ]
    }
   ],
   "source": [
    "#Will not print duplicate\n",
    "if __name__ == '__main__':\n",
    "    numbers = [18,5,2,21,10,24,19,35,18,10]\n",
    "    numbers_tree = build_tree(numbers)\n",
    "    print(numbers_tree.in_order_traversal())\n",
    "    print(numbers_tree.search(10))\n",
    "    print(numbers_tree.search(1))"
   ]
  },
  {
   "cell_type": "code",
   "execution_count": 3,
   "id": "5c420bd8",
   "metadata": {},
   "outputs": [
    {
     "name": "stdout",
     "output_type": "stream",
     "text": [
      "['apple', 'banana', 'grape', 'onion', 'orange', 'potato', 'tomato']\n",
      "True\n",
      "False\n"
     ]
    }
   ],
   "source": [
    "if __name__ == '__main__':\n",
    "    numbers = ['apple','orange','onion','apple','grape','banana','tomato','potato','tomato']\n",
    "    numbers_tree = build_tree(numbers)\n",
    "    print(numbers_tree.in_order_traversal())\n",
    "    print(numbers_tree.search('grape'))\n",
    "    print(numbers_tree.search('chilli'))"
   ]
  }
 ],
 "metadata": {
  "kernelspec": {
   "display_name": "Python 3 (ipykernel)",
   "language": "python",
   "name": "python3"
  },
  "language_info": {
   "codemirror_mode": {
    "name": "ipython",
    "version": 3
   },
   "file_extension": ".py",
   "mimetype": "text/x-python",
   "name": "python",
   "nbconvert_exporter": "python",
   "pygments_lexer": "ipython3",
   "version": "3.11.5"
  }
 },
 "nbformat": 4,
 "nbformat_minor": 5
}
