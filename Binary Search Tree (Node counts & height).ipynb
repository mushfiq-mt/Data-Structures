{
 "cells": [
  {
   "cell_type": "markdown",
   "id": "65f7cf88",
   "metadata": {},
   "source": [
    "# No.of Nodes in BST, Height of a BST\n",
    "#### Mushfiq M.T"
   ]
  },
  {
   "cell_type": "code",
   "execution_count": 3,
   "id": "5aa12a85",
   "metadata": {},
   "outputs": [
    {
     "name": "stdout",
     "output_type": "stream",
     "text": [
      "[2, 5, 10, 18, 19, 21, 24, 35]\n",
      "No. of nodes in the tree: 8\n",
      "Height of the tree is: 4\n"
     ]
    }
   ],
   "source": [
    "class BSTNode:\n",
    "    def __init__(self, data):\n",
    "        self.data = data\n",
    "        self.left = None\n",
    "        self.right = None\n",
    "        \n",
    "    #Build the model    \n",
    "    def add_child(self, data):\n",
    "        if data == self.data:\n",
    "            return\n",
    "        \n",
    "        if data < self.data:\n",
    "            if self.left:\n",
    "                return self.left.add_child(data)\n",
    "            else:\n",
    "                self.left = BSTNode(data)\n",
    "        \n",
    "        else:\n",
    "            if self.right:\n",
    "                return self.right.add_child(data)\n",
    "            else:\n",
    "                self.right = BSTNode(data)\n",
    "            \n",
    "    #in_order_traversal for print all the element\n",
    "    def in_order_traversal(self):\n",
    "        elements = []\n",
    "        \n",
    "        #visit left tree\n",
    "        if self.left:\n",
    "            elements += self.left.in_order_traversal()\n",
    "        \n",
    "        #visit base node\n",
    "        elements.append(self.data)\n",
    "        \n",
    "        #visit right node\n",
    "        if self.right:\n",
    "            elements += self.right.in_order_traversal()\n",
    "        return elements\n",
    "    \n",
    "    \n",
    "#Build the tree\n",
    "def build_tree(elements):\n",
    "    root = BSTNode(elements[0])\n",
    "    \n",
    "    for i in range(1, len(elements)):\n",
    "        root.add_child(elements[i])\n",
    "    return root\n",
    "\n",
    "#Find the number of nodes\n",
    "def count_nodes(root):\n",
    "        if not root:\n",
    "            return 0\n",
    "        return 1+count_nodes(root.left)+count_nodes(root.right)\n",
    "    \n",
    "#Find Height of the tree\n",
    "def tree_height(root):\n",
    "        if not root:\n",
    "            return 0\n",
    "        return 1+max(tree_height(root.left),tree_height(root.right))\n",
    "\n",
    "\n",
    "if __name__ == '__main__':\n",
    "    numbers = [18,5,2,21,10,24,19,35]\n",
    "    numbers_tree = build_tree(numbers)\n",
    "    print(numbers_tree.in_order_traversal())\n",
    "    print(\"No. of nodes in the tree:\", count_nodes(numbers_tree))\n",
    "    print(\"Height of the tree is:\", tree_height(numbers_tree))"
   ]
  },
  {
   "cell_type": "code",
   "execution_count": 5,
   "id": "3eb22434",
   "metadata": {},
   "outputs": [
    {
     "name": "stdout",
     "output_type": "stream",
     "text": [
      "[2, 3, 5, 6, 7]\n",
      "No. of nodes in the tree: 5\n",
      "Height of the tree is: 3\n"
     ]
    }
   ],
   "source": [
    "if __name__ == '__main__':\n",
    "    numbers = [5,3,6,2,7]\n",
    "    numbers_tree = build_tree(numbers)\n",
    "    print(numbers_tree.in_order_traversal())\n",
    "    print(\"No. of nodes in the tree:\", count_nodes(numbers_tree))\n",
    "    print(\"Height of the tree is:\", tree_height(numbers_tree))"
   ]
  }
 ],
 "metadata": {
  "kernelspec": {
   "display_name": "Python 3 (ipykernel)",
   "language": "python",
   "name": "python3"
  },
  "language_info": {
   "codemirror_mode": {
    "name": "ipython",
    "version": 3
   },
   "file_extension": ".py",
   "mimetype": "text/x-python",
   "name": "python",
   "nbconvert_exporter": "python",
   "pygments_lexer": "ipython3",
   "version": "3.11.5"
  }
 },
 "nbformat": 4,
 "nbformat_minor": 5
}
