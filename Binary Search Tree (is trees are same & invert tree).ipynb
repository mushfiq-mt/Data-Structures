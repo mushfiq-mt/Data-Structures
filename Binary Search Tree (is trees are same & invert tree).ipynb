{
 "cells": [
  {
   "cell_type": "markdown",
   "id": "be75a406",
   "metadata": {},
   "source": [
    "# Trees are same, Invert a tree\n",
    "#### Mushfiq M.T"
   ]
  },
  {
   "cell_type": "code",
   "execution_count": 20,
   "id": "ec49ad44",
   "metadata": {},
   "outputs": [],
   "source": [
    "class BSTNode:\n",
    "    def __init__(self, data):\n",
    "        self.data = data\n",
    "        self.left = None\n",
    "        self.right = None\n",
    "        \n",
    "    #Build the model    \n",
    "    def add_child(self, data):\n",
    "        if data == self.data:\n",
    "            return\n",
    "        \n",
    "        if data < self.data:\n",
    "            if self.left:\n",
    "                return self.left.add_child(data)\n",
    "            else:\n",
    "                self.left = BSTNode(data)\n",
    "        \n",
    "        else:\n",
    "            if self.right:\n",
    "                return self.right.add_child(data)\n",
    "            else:\n",
    "                self.right = BSTNode(data)\n",
    "            \n",
    "    #in_order_traversal for print all the element\n",
    "    def in_order_traversal(self):\n",
    "        elements = []\n",
    "        \n",
    "        #visit left tree\n",
    "        if self.left:\n",
    "            elements += self.left.in_order_traversal()\n",
    "        \n",
    "        #visit base node\n",
    "        elements.append(self.data)\n",
    "        \n",
    "        #visit right node\n",
    "        if self.right:\n",
    "            elements += self.right.in_order_traversal()\n",
    "        return elements\n",
    "    \n",
    "    \n",
    "#Build the tree\n",
    "def build_tree(elements):\n",
    "    root = BSTNode(elements[0])\n",
    "    \n",
    "    for i in range(1, len(elements)):\n",
    "        root.add_child(elements[i])\n",
    "    return root"
   ]
  },
  {
   "cell_type": "code",
   "execution_count": 21,
   "id": "4c7fba1b",
   "metadata": {},
   "outputs": [],
   "source": [
    "#Check given trees are same or not\n",
    "#2 binary trees are same if they are structurally identical & nodes have same value\n",
    "def is_same_tree(root1, root2):\n",
    "        if not root1 and not root2:\n",
    "            return True\n",
    "        \n",
    "        if root1 and root2 and root1.data == root2.data:\n",
    "            return is_same_tree(root1.left, root2.left) and is_same_tree(root1.right, root2.right)\n",
    "        \n",
    "        return False\n"
   ]
  },
  {
   "cell_type": "code",
   "execution_count": 22,
   "id": "22737c65",
   "metadata": {},
   "outputs": [
    {
     "name": "stdout",
     "output_type": "stream",
     "text": [
      "[2, 5, 10, 18, 19, 21, 24, 35]\n",
      "[2, 5, 10, 18, 19, 21, 24, 35]\n",
      "Is both tree are same?: True\n"
     ]
    }
   ],
   "source": [
    "if __name__ == '__main__':\n",
    "    numbers1 = [18,5,2,21,10,24,19,35]\n",
    "    numbers2 = [18,5,2,21,10,24,19,35]\n",
    "    numbers_tree1 = build_tree(numbers1)\n",
    "    numbers_tree2 = build_tree(numbers2)\n",
    "    print(numbers_tree1.in_order_traversal())\n",
    "    print(numbers_tree2.in_order_traversal())\n",
    "    print(\"Is both tree are same?:\", is_same_tree( numbers_tree1,  numbers_tree2))"
   ]
  },
  {
   "cell_type": "code",
   "execution_count": 23,
   "id": "cadb3889",
   "metadata": {},
   "outputs": [
    {
     "name": "stdout",
     "output_type": "stream",
     "text": [
      "[2, 5, 10, 18, 19, 21, 24, 35]\n",
      "[2, 5, 10, 18, 19, 21, 24, 35]\n",
      "Is both tree are same?: False\n"
     ]
    }
   ],
   "source": [
    "if __name__ == '__main__':\n",
    "    numbers1 = [18,5,2,21,10,24,19,35]\n",
    "    numbers2 = [18,2,21,24,5,19,35,10]\n",
    "    numbers_tree1 = build_tree(numbers1)\n",
    "    numbers_tree2 = build_tree(numbers2)\n",
    "    print(numbers_tree1.in_order_traversal())\n",
    "    print(numbers_tree2.in_order_traversal())\n",
    "    print(\"Is both tree are same?:\", is_same_tree( numbers_tree1,  numbers_tree2))"
   ]
  },
  {
   "cell_type": "code",
   "execution_count": 24,
   "id": "ea1d9f8c",
   "metadata": {},
   "outputs": [],
   "source": [
    "#Invert a tree: \n",
    "def invert_tree(root):\n",
    "    if not root:\n",
    "        return root\n",
    "    \n",
    "    root.left, root.right = invert_tree(root.right), invert_tree(root.left)\n",
    "    return root"
   ]
  },
  {
   "cell_type": "code",
   "execution_count": 25,
   "id": "c3f83a11",
   "metadata": {},
   "outputs": [
    {
     "name": "stdout",
     "output_type": "stream",
     "text": [
      "[2, 5, 10, 18, 19, 21, 24, 35]\n",
      "Inverted Tree: <__main__.BSTNode object at 0x0000027DDFC4AFD0>\n"
     ]
    }
   ],
   "source": [
    "if __name__ == '__main__':\n",
    "    numbers = [18,5,2,21,10,24,19,35]\n",
    "    numbers_tree = build_tree(numbers)\n",
    "    print(numbers_tree.in_order_traversal())\n",
    "    print(\"Inverted Tree:\", invert_tree(numbers_tree))"
   ]
  }
 ],
 "metadata": {
  "kernelspec": {
   "display_name": "Python 3 (ipykernel)",
   "language": "python",
   "name": "python3"
  },
  "language_info": {
   "codemirror_mode": {
    "name": "ipython",
    "version": 3
   },
   "file_extension": ".py",
   "mimetype": "text/x-python",
   "name": "python",
   "nbconvert_exporter": "python",
   "pygments_lexer": "ipython3",
   "version": "3.11.5"
  }
 },
 "nbformat": 4,
 "nbformat_minor": 5
}
