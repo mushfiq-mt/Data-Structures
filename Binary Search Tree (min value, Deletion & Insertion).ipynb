{
 "cells": [
  {
   "cell_type": "markdown",
   "id": "5169e150",
   "metadata": {},
   "source": [
    "# Minimum Value in BST & Delete node in BST\n",
    "##### Mushfiq M.T"
   ]
  },
  {
   "cell_type": "code",
   "execution_count": 1,
   "id": "34260234",
   "metadata": {},
   "outputs": [
    {
     "name": "stdout",
     "output_type": "stream",
     "text": [
      "[2, 5, 10, 18, 19, 21, 24, 35]\n"
     ]
    }
   ],
   "source": [
    "class BSTNode:\n",
    "    def __init__(self, data):\n",
    "        self.data = data\n",
    "        self.left = None\n",
    "        self.right = None\n",
    "        \n",
    "    #Build the model    \n",
    "    def add_child(self, data):\n",
    "        if data == self.data:\n",
    "            return\n",
    "        \n",
    "        if data < self.data:\n",
    "            if self.left:\n",
    "                return self.left.add_child(data)\n",
    "            else:\n",
    "                self.left = BSTNode(data)\n",
    "        \n",
    "        else:\n",
    "            if self.right:\n",
    "                return self.right.add_child(data)\n",
    "            else:\n",
    "                self.right = BSTNode(data)\n",
    "            \n",
    "    #in_order_traversal for print all the element\n",
    "    def in_order_traversal(self):\n",
    "        elements = []\n",
    "        \n",
    "        #visit left tree\n",
    "        if self.left:\n",
    "            elements += self.left.in_order_traversal()\n",
    "        \n",
    "        #visit base node\n",
    "        elements.append(self.data)\n",
    "        \n",
    "        #visit right node\n",
    "        if self.right:\n",
    "            elements += self.right.in_order_traversal()\n",
    "        return elements\n",
    "    \n",
    "#Build the tree\n",
    "def build_tree(elements):\n",
    "    root = BSTNode(elements[0])\n",
    "    \n",
    "    for i in range(1, len(elements)):\n",
    "        root.add_child(elements[i])\n",
    "    return root\n",
    "\n",
    "if __name__ == '__main__':\n",
    "    numbers = [18,5,2,21,10,24,19,35]\n",
    "    numbers_tree = build_tree(numbers)\n",
    "    print(numbers_tree.in_order_traversal())"
   ]
  },
  {
   "cell_type": "markdown",
   "id": "3bf6eb8a",
   "metadata": {},
   "source": [
    "### Find Minimum"
   ]
  },
  {
   "cell_type": "code",
   "execution_count": 2,
   "id": "bf8857f7",
   "metadata": {},
   "outputs": [],
   "source": [
    "#Function to find minimum value\n",
    "def min_value_node(root):\n",
    "    current = root\n",
    "    while current.left:\n",
    "        current = current.left\n",
    "    return current"
   ]
  },
  {
   "cell_type": "code",
   "execution_count": 3,
   "id": "8213ac11",
   "metadata": {},
   "outputs": [
    {
     "data": {
      "text/plain": [
       "2"
      ]
     },
     "execution_count": 3,
     "metadata": {},
     "output_type": "execute_result"
    }
   ],
   "source": [
    "min_value_node(numbers_tree).data"
   ]
  },
  {
   "cell_type": "markdown",
   "id": "743a1ff4",
   "metadata": {},
   "source": [
    "### Deletion"
   ]
  },
  {
   "cell_type": "code",
   "execution_count": 4,
   "id": "2c9c4ea6",
   "metadata": {},
   "outputs": [],
   "source": [
    "#delete a value from the tree\n",
    "def delete_node(root, key):\n",
    "    if not root:\n",
    "        return root\n",
    "    \n",
    "    if key < root.data:\n",
    "        root.left = delete_node(root.left, key)\n",
    "        \n",
    "    elif key > root.data:\n",
    "        root.right = delete_node(root.right, key)\n",
    "        \n",
    "    else: # key == root.data\n",
    "        if not root.left:\n",
    "            return root.right\n",
    "        \n",
    "        if not root.right:\n",
    "            return root.left\n",
    "        \n",
    "        temp = min_value_node(root.right)\n",
    "        root.data = temp.data\n",
    "        root.right = delete_node(root.right, temp.data)\n",
    "        \n",
    "    return root"
   ]
  },
  {
   "cell_type": "code",
   "execution_count": 5,
   "id": "ce2422e0",
   "metadata": {},
   "outputs": [
    {
     "name": "stdout",
     "output_type": "stream",
     "text": [
      "[2, 10, 18, 19, 21, 24, 35]\n"
     ]
    }
   ],
   "source": [
    "delete_node(numbers_tree, 5)\n",
    "print(numbers_tree.in_order_traversal())"
   ]
  },
  {
   "cell_type": "code",
   "execution_count": 6,
   "id": "7557bbe5",
   "metadata": {},
   "outputs": [
    {
     "name": "stdout",
     "output_type": "stream",
     "text": [
      "[2, 10, 18, 19, 21, 24]\n"
     ]
    }
   ],
   "source": [
    "delete_node(numbers_tree, 35)\n",
    "print(numbers_tree.in_order_traversal())"
   ]
  },
  {
   "cell_type": "code",
   "execution_count": 7,
   "id": "27648b62",
   "metadata": {
    "scrolled": true
   },
   "outputs": [
    {
     "name": "stdout",
     "output_type": "stream",
     "text": [
      "[2, 10, 19, 21, 24]\n"
     ]
    }
   ],
   "source": [
    "delete_node(numbers_tree, 18)\n",
    "print(numbers_tree.in_order_traversal())"
   ]
  },
  {
   "cell_type": "markdown",
   "id": "f895a0be",
   "metadata": {},
   "source": [
    "### Insertion"
   ]
  },
  {
   "cell_type": "code",
   "execution_count": 12,
   "id": "197ad707",
   "metadata": {},
   "outputs": [],
   "source": [
    "#Insert a value in to the tree\n",
    "def insert_node(root, key):\n",
    "    if not root:\n",
    "        return BSTNode(key)\n",
    "    \n",
    "    if root.data == key:\n",
    "        return root\n",
    "    elif key > root.data:\n",
    "        root.right = insert_node(root.right, key)\n",
    "    else:\n",
    "        root.left = insert_node(root.left, key)\n",
    "        \n",
    "    return root"
   ]
  },
  {
   "cell_type": "code",
   "execution_count": 14,
   "id": "e0f7d342",
   "metadata": {},
   "outputs": [
    {
     "name": "stdout",
     "output_type": "stream",
     "text": [
      "[2, 10, 19, 21, 24, 35]\n"
     ]
    }
   ],
   "source": [
    "insert_node(numbers_tree, 35)\n",
    "print(numbers_tree.in_order_traversal())"
   ]
  },
  {
   "cell_type": "code",
   "execution_count": 15,
   "id": "73220558",
   "metadata": {},
   "outputs": [
    {
     "name": "stdout",
     "output_type": "stream",
     "text": [
      "[2, 10, 18, 19, 21, 24, 35]\n"
     ]
    }
   ],
   "source": [
    "insert_node(numbers_tree, 18)\n",
    "print(numbers_tree.in_order_traversal())"
   ]
  }
 ],
 "metadata": {
  "kernelspec": {
   "display_name": "Python 3 (ipykernel)",
   "language": "python",
   "name": "python3"
  },
  "language_info": {
   "codemirror_mode": {
    "name": "ipython",
    "version": 3
   },
   "file_extension": ".py",
   "mimetype": "text/x-python",
   "name": "python",
   "nbconvert_exporter": "python",
   "pygments_lexer": "ipython3",
   "version": "3.11.5"
  }
 },
 "nbformat": 4,
 "nbformat_minor": 5
}
